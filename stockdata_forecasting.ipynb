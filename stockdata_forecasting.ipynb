{
  "nbformat": 4,
  "nbformat_minor": 0,
  "metadata": {
    "colab": {
      "provenance": [],
      "authorship_tag": "ABX9TyMWvs6WdIuZDUlopm+ty+D+",
      "include_colab_link": true
    },
    "kernelspec": {
      "name": "python3",
      "display_name": "Python 3"
    },
    "language_info": {
      "name": "python"
    }
  },
  "cells": [
    {
      "cell_type": "markdown",
      "metadata": {
        "id": "view-in-github",
        "colab_type": "text"
      },
      "source": [
        "<a href=\"https://colab.research.google.com/github/Nickeniklas/stockdata_forecasting/blob/main/stockdata_forecasting.ipynb\" target=\"_parent\"><img src=\"https://colab.research.google.com/assets/colab-badge.svg\" alt=\"Open In Colab\"/></a>"
      ]
    },
    {
      "cell_type": "markdown",
      "source": [
        "# Stock data Forecasting\n",
        "\n",
        "Using SARIMAX\n",
        "\n",
        "Fetching with yfinance\n",
        "\n"
      ],
      "metadata": {
        "id": "6pVPQBrxv8px"
      }
    },
    {
      "cell_type": "code",
      "source": [],
      "metadata": {
        "id": "iQOYyxOnwh5P"
      },
      "execution_count": null,
      "outputs": []
    }
  ]
}